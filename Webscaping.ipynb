{
 "cells": [
  {
   "cell_type": "code",
   "execution_count": null,
   "id": "2e51ec33",
   "metadata": {},
   "outputs": [],
   "source": [
    "from selenium import webdriver \n",
    "from pymongo import MongoClient\n",
    "from bs4 import BeautifulSoup\n",
    "from selenium.webdriver.support.wait import WebDriverWait\n",
    "from selenium.webdriver.support import expected_conditions as EC\n",
    "from selenium.webdriver.common.by import By\n",
    "import pymongo\n",
    "import requests\n",
    "from time import sleep\n",
    "import urllib.request\n",
    "import os"
   ]
  },
  {
   "cell_type": "code",
   "execution_count": null,
   "id": "cd9fc52e",
   "metadata": {},
   "outputs": [],
   "source": [
    "# Pilote selenium Chrome \n",
    "browser = webdriver.Chrome(r'C:\\chromedriver.exe')"
   ]
  },
  {
   "cell_type": "code",
   "execution_count": null,
   "id": "8ad35b03",
   "metadata": {},
   "outputs": [],
   "source": [
    "# Go to the url\n",
    "browser.get('https://mbasic.facebook.com/')"
   ]
  },
  {
   "cell_type": "code",
   "execution_count": null,
   "id": "2510fe42",
   "metadata": {},
   "outputs": [],
   "source": [
    "#target username and password\n",
    "username = WebDriverWait(browser, 10).until(EC.element_to_be_clickable((By.CSS_SELECTOR, \"input[name='email']\")))\n",
    "password = WebDriverWait(browser, 10).until(EC.element_to_be_clickable((By.CSS_SELECTOR, \"input[name='pass']\")))\n",
    "\n",
    "#enter username and password\n",
    "username.clear()\n",
    "username.send_keys(\"53292112\") # please insert your user_name here or you can skip this block and insert them manually\n",
    "password.clear()\n",
    "password.send_keys(\"*******\") # please insert your password here or you can skip this block and insert them manually\n",
    "\n",
    "#target the login button and click it\n",
    "login_btn = browser.find_element(\"xpath\",'//*[@id=\"login_form\"]/ul/li[3]/input')\n",
    "sleep(3)\n",
    "\n",
    "\n",
    "login_btn.click()"
   ]
  },
  {
   "cell_type": "code",
   "execution_count": null,
   "id": "26ad3b56",
   "metadata": {},
   "outputs": [],
   "source": [
    "#Skip remember popup\n",
    "login_btn = browser.find_element(\"xpath\",'//*[@id=\"root\"]/table/tbody/tr/td/div/div[3]/a')\n",
    "login_btn.click()"
   ]
  },
  {
   "cell_type": "code",
   "execution_count": null,
   "id": "b01b1926",
   "metadata": {},
   "outputs": [],
   "source": [
    "#Search\n",
    "search = WebDriverWait(browser, 10).until(EC.element_to_be_clickable((By.CSS_SELECTOR, \"input[name='query']\")))\n",
    "\n",
    "#enter desired Hashtag ! \n",
    "#you can change to any hashtag but sometimes you need to change things later some html code are not structured\n",
    "search.clear()\n",
    "search.send_keys(\"#football\") \n",
    "#search button click\n",
    "login_btn = browser.find_element(\"xpath\",'//*[@id=\"header\"]/form/table/tbody/tr/td[3]/input')\n",
    "\n",
    "login_btn.click()"
   ]
  },
  {
   "cell_type": "markdown",
   "id": "ecf60338",
   "metadata": {},
   "source": [
    "# BeautifulSoup\n",
    "# cet outil nous permettra de parser les pages html et extraire des données"
   ]
  },
  {
   "cell_type": "code",
   "execution_count": null,
   "id": "ffcfc9ca",
   "metadata": {},
   "outputs": [],
   "source": [
    "list_dir=\"C:\\\\\"\n",
    "default_dir = os.path.join(list_dir,\"C:/Users/fzaea/Desktop/Scraping/Img\") #create a 2 folder on your desktop and change the names also the user name\n",
    "opener = urllib.request.build_opener()\n",
    "urllib.request.install_opener(opener)"
   ]
  },
  {
   "cell_type": "code",
   "execution_count": null,
   "id": "ff25bc1b",
   "metadata": {},
   "outputs": [],
   "source": [
    "posts = browser.find_element(\"xpath\",'//*[@id=\"root\"]/div[1]')\n",
    "links = posts.find_elements(\"link text\",'Actualité intégrale')\n",
    "pubs = []\n",
    "for link in links:\n",
    "    pub = {}\n",
    "    page_content = requests.get(link.get_attribute('href')).content\n",
    "    soup = BeautifulSoup(page_content, 'html.parser')\n",
    "    #get post text\n",
    "    pub['text'] = soup.p.text\n",
    "    #get image url\n",
    "    pub['image'] = soup.img[\"src\"]\n",
    "    img_url = soup.img[\"src\"]\n",
    "    filename = os.path.join(default_dir, img_url.split(\"/\")[-1])\n",
    "    img_data = opener.open(img_url)\n",
    "    f = open(filename,\"wb\")\n",
    "    f.write(img_data.read())\n",
    "    f.close()\n",
    "    pubs.append(pub)"
   ]
  },
  {
   "cell_type": "code",
   "execution_count": null,
   "id": "9a1da9c3",
   "metadata": {},
   "outputs": [],
   "source": [
    "pubs"
   ]
  },
  {
   "cell_type": "markdown",
   "id": "6f9c1471",
   "metadata": {},
   "source": [
    "# MongoDB\n",
    "# le text de la publication et l'image vont etre stockés dans une DB Nosql MongoDB"
   ]
  },
  {
   "cell_type": "code",
   "execution_count": null,
   "id": "26c7b0d9",
   "metadata": {},
   "outputs": [],
   "source": [
    "#MongoDB connection put your connection to verify\n",
    "client = pymongo.MongoClient(\"mongodb://localhost:27017\")\n",
    "mydb = client[\"facebook\"]\n",
    "mycol = mydb[\"posts\"]\n",
    "\n",
    "#insert the list of dicts\n",
    "mycol.insert_many(pubs)\n",
    "\n",
    "#Show a sample \n",
    "mycol.find_one()"
   ]
  }
 ],
 "metadata": {
  "kernelspec": {
   "display_name": "Python 3 (ipykernel)",
   "language": "python",
   "name": "python3"
  },
  "language_info": {
   "codemirror_mode": {
    "name": "ipython",
    "version": 3
   },
   "file_extension": ".py",
   "mimetype": "text/x-python",
   "name": "python",
   "nbconvert_exporter": "python",
   "pygments_lexer": "ipython3",
   "version": "3.9.7"
  }
 },
 "nbformat": 4,
 "nbformat_minor": 5
}
